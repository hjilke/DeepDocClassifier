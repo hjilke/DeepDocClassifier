{
 "cells": [
  {
   "cell_type": "markdown",
   "id": "fancy-morrison",
   "metadata": {},
   "source": [
    "# Introduction\n",
    "\n",
    "Name: Henrik Jilke\n",
    "\n",
    "\n",
    "Document classification is an essential building block of many machine learning applications,\n",
    "and therefore important. The authors of the paper *ICDAR-2015 paper* [deepdocclassifier](https://ieeexplore.ieee.org/document/7333933/) have therefore taken the challenge to improve the\n",
    "state of art performance (back in 2015) of document classification. Their method is different to existing solutions as they use deep convolutional networks and base their classification only on visual aspects.\n",
    " \n",
    "\n",
    "This Notebook reimplements the proposed DeepDocClassifier model and training procedure as outlined\n",
    "in the publication. For this we will cover:\n",
    "\n",
    "\n",
    "**1. Process Data**:\n",
    "\n",
    "[1 Process Data](#1-Process-Data)\n",
    "* [1.1 Read Source Data](#1.1-Read-Source-Data)\n",
    "* [1.2 Build Partitions](#1.2-Build-Partitions)\n",
    "* [1.3 Split the Data](#1.3-Split-the-Data)\n",
    "* [1.4 Plot Data](#1.4-Plot-Data)\n",
    "\n",
    "**2. Modeling**:\n",
    "\n",
    "[2 Modeling](#2-Modeling)\n",
    "* [2.1 Create the Model](#2.1-Create-the-Model)\n",
    "* [2.2 Train the Model](#2.2-Train-the-Model)\n",
    "\n",
    "**3. Analyse Results**:\n",
    "\n",
    "[3 Analyse Results](#3-Analyse-Results)\n",
    "* [3.1 Accuracy vs Training size](#3.1-Accuracy-vs-Training-size)\n",
    "* [3.2 Confusion Matrix](#3.2-Confusion-Matrix)\n",
    "\n"
   ]
  },
  {
   "cell_type": "code",
   "execution_count": 1,
   "id": "noticed-fantasy",
   "metadata": {},
   "outputs": [],
   "source": [
    "from sklearn.metrics import plot_confusion_matrix\n",
    "import numpy as np\n",
    "import matplotlib.pyplot as plt\n",
    "\n",
    "from sklearn import svm, datasets\n",
    "from sklearn.model_selection import train_test_split\n",
    "import os\n",
    "import torch"
   ]
  },
  {
   "cell_type": "code",
   "execution_count": 2,
   "id": "cognitive-turtle",
   "metadata": {},
   "outputs": [],
   "source": [
    "root = os.path.dirname(__name__)"
   ]
  },
  {
   "cell_type": "markdown",
   "id": "blank-sacramento",
   "metadata": {},
   "source": [
    "# 1 Process Data\n",
    "\n",
    "The *Tobacco3482* data set consists **3482** different documents. Every document\n",
    "has an assigned category (class label), and there are a total of **10** different class labels.\n",
    "Theses class labels are:\n",
    "* Note, Scientific, Form, Report, ADVE, Memo, Resume, Email, News, Letter\n",
    "\n",
    "\n",
    "The downloaded data set structures the different documents types in subfolders. For each\n",
    "class label there is a subfolder, e.g. 10 subfolders in total. To read this\n",
    "data I created a reader called *SourceReader* ([SourceReader](files/tobacco_data_set.py))\n",
    "\n"
   ]
  },
  {
   "cell_type": "markdown",
   "id": "broke-keeping",
   "metadata": {},
   "source": [
    "# 1.1 Read Source Data\n",
    "\n",
    "We use our *SourceReader* ([SourceReader](files/tobacco_data_set.py)) to load and read the raw data"
   ]
  },
  {
   "cell_type": "code",
   "execution_count": 3,
   "id": "amended-friend",
   "metadata": {},
   "outputs": [],
   "source": [
    "from tobacco_data_set import SourceReader"
   ]
  },
  {
   "cell_type": "code",
   "execution_count": 4,
   "id": "innocent-yemen",
   "metadata": {},
   "outputs": [
    {
     "name": "stdout",
     "output_type": "stream",
     "text": [
      "['Note', 'Scientific', 'Form', 'Report', 'ADVE', 'Memo', 'Resume', 'Email', 'News', 'Letter']\n",
      "Overall we have a total of 3482 images\n"
     ]
    }
   ],
   "source": [
    "path_to_tabocco_data = os.path.abspath(os.path.join(root, \"data/Tobacco3482-jpg\"))\n",
    "file_reader = SourceReader(path_to_tabocco_data)\n",
    "labels = file_reader.read_class_labels()\n",
    "data_dict = file_reader.get_image_paths(labels)\n",
    "\n",
    "print(file_reader.read_class_labels())\n",
    "print(\"Overall we have a total of {} images\".format(sum(len(k) for v, k in data_dict.items())))"
   ]
  },
  {
   "cell_type": "markdown",
   "id": "documented-independence",
   "metadata": {},
   "source": [
    "# 1.2 Build Partitions\n",
    "\n",
    "\n",
    "To showcase the power of the method the authors measure the performance of their method on random partitions of the *Tobacco3482*. For detailed information, please see the *ICDAR-2015 paper* [deepdocclassifier](https://ieeexplore.ieee.org/document/7333933/)\n",
    "\n",
    "The authors create 100 random partitions with different training sizes ranging for 20 to 100 samples for \n",
    "each class. As I do not have access to a GPU cluster I will create only 5 random partitions, such that\n",
    "I have one partition with 20 training images per class, one with 40, etc.\n",
    "\n",
    "As we use the Pytorch framework to build and train the neural network I have to make the *Tobacco3482* dataset is compatible with the framework. For this reason I created the *TobaccoDataSet* which ensures compatibility."
   ]
  },
  {
   "cell_type": "code",
   "execution_count": 5,
   "id": "missing-baltimore",
   "metadata": {},
   "outputs": [],
   "source": [
    "import random \n",
    "from tobacco_data_set import TobaccoDataSet, RandomPartitioner\n",
    "\n",
    "def create_partition(data_dict, n_train_images):\n",
    "    partitioner = RandomPartitioner(data_dict, n_train_images)\n",
    "    train_partition, test_partition = partitioner.partition()\n",
    "    return train_partition, test_partition\n",
    "\n",
    "\n",
    "def create_set_of_partitions(data_dict, random_partitions, path_to_partitions):\n",
    "    for n_train_images in random_partitions:\n",
    "        train_partition, test_partition = create_partition(data_dict, n_train_images)\n",
    "\n",
    "        train_data = TobaccoDataSet(train_partition, transform=transforms)\n",
    "        test_data = TobaccoDataSet(test_partition, transform=transforms)\n",
    "\n",
    "        file_name = \"data-partition-{}-size_train-{}\".format(uuid.uuid4(), n_train_images)\n",
    "        file_path = os.path.join(path_to_partitions, file_name)\n",
    "        data = [train_data, test_data]\n",
    "        torch.save(data, file_path)"
   ]
  },
  {
   "cell_type": "code",
   "execution_count": 6,
   "id": "existing-collectible",
   "metadata": {},
   "outputs": [],
   "source": [
    "path_to_partitions = os.path.abspath(\"./partitions\")\n",
    "create_set_of_partitions(data_dict, [20, 40, 60, 80, 100], path_to_partition)"
   ]
  },
  {
   "cell_type": "markdown",
   "id": "verbal-concentration",
   "metadata": {},
   "source": [
    "In the follwing we see all the partitions that were created"
   ]
  },
  {
   "cell_type": "code",
   "execution_count": 7,
   "id": "undefined-literature",
   "metadata": {},
   "outputs": [
    {
     "data": {
      "text/plain": [
       "['data-partition-6bac002e-b9d8-4e16-8a05-7912d06cc480-size_train-60',\n",
       " '.gitkeep',\n",
       " 'data-partition-639d75cf-1d8a-4a15-a530-64cce86bcb5b-size_train-100',\n",
       " 'data-partition-863d6a02-b3df-4b89-9a00-ef1818862146-size_train-80',\n",
       " 'data-partition-a19e490f-c050-4230-92da-d42ee80335f4-size_train-40',\n",
       " 'data-partition-6a372eda-fff1-430b-9fec-a4c5a0bc4f6d-size_train-20']"
      ]
     },
     "execution_count": 7,
     "metadata": {},
     "output_type": "execute_result"
    }
   ],
   "source": [
    "os.listdir(path_to_partitions)"
   ]
  },
  {
   "cell_type": "markdown",
   "id": "instrumental-voice",
   "metadata": {},
   "source": [
    "# 1.3 Split the Data\n",
    "\n",
    "While training on each partition, the authors split the training data into validation data (20%) and training data (80%). For detailed information, please see the *ICDAR-2015 paper* [deepdocclassifier](https://ieeexplore.ieee.org/document/7333933/)\n",
    "\n",
    "To do this, I created a helper function *train_validation_split* that splits the data into a validation set and a training set. Additionally, the authors resize the images to a size of (227, 277) which is why we create a *transforms* object\n"
   ]
  },
  {
   "cell_type": "code",
   "execution_count": 8,
   "id": "collaborative-pakistan",
   "metadata": {},
   "outputs": [],
   "source": [
    "from torch.utils.data.sampler import SubsetRandomSampler\n",
    "from torchvision import transforms\n",
    "\n",
    "def train_validation_split(data_size, train_frac=0.8):\n",
    "    indices = list(range(data_size))\n",
    "    train_size = int((0.8 * data_size))\n",
    "    np.random.shuffle(indices)\n",
    "    train_indices, val_indices = indices[:train_size], indices[train_size+1:]\n",
    "    return SubsetRandomSampler(train_indices), SubsetRandomSampler(val_indices)\n",
    "\n",
    "transforms = transforms.Compose([\n",
    "    transforms.ToTensor(),\n",
    "    transforms.Resize((227,227))\n",
    "]) "
   ]
  },
  {
   "cell_type": "markdown",
   "id": "tribal-share",
   "metadata": {},
   "source": [
    "# 1.4 Plot Data\n",
    "\n",
    "To see if all works we plot two example documents"
   ]
  },
  {
   "cell_type": "code",
   "execution_count": 9,
   "id": "tutorial-extraction",
   "metadata": {},
   "outputs": [],
   "source": [
    "import matplotlib.pyplot\n",
    "\n",
    "def plot_helper(image, ax=None, title=None):\n",
    "    if ax is None:\n",
    "        fig, ax = plt.subplots()\n",
    "    image = image.numpy().transpose((1, 2, 0))\n",
    "\n",
    "    ax.imshow(image)\n",
    "    ax.spines['top'].set_visible(False)\n",
    "    ax.spines['right'].set_visible(False)\n",
    "    ax.spines['left'].set_visible(False)\n",
    "    ax.spines['bottom'].set_visible(False)\n",
    "    ax.tick_params(axis='both', length=0)\n",
    "    ax.set_xticklabels('')\n",
    "    ax.set_yticklabels('')\n",
    "\n",
    "    return ax"
   ]
  },
  {
   "cell_type": "code",
   "execution_count": 10,
   "id": "determined-symbol",
   "metadata": {},
   "outputs": [],
   "source": [
    "train_partition, test_partition = create_partition(data_dict, 20)\n",
    "train_data = TobaccoDataSet(train_partition, transform=transforms)\n",
    "\n",
    "train_sampler, val_sampler = train_validation_split(len(train_data), train_frac=0.8)\n",
    "train_loader = torch.utils.data.DataLoader(train_data, batch_size=10, sampler=train_sampler)"
   ]
  },
  {
   "cell_type": "markdown",
   "id": "novel-entrepreneur",
   "metadata": {},
   "source": [
    "As we can see all looks good"
   ]
  },
  {
   "cell_type": "code",
   "execution_count": 11,
   "id": "billion-tomato",
   "metadata": {
    "scrolled": false
   },
   "outputs": [
    {
     "data": {
      "text/plain": [
       "<Figure size 720x1080 with 0 Axes>"
      ]
     },
     "metadata": {},
     "output_type": "display_data"
    },
    {
     "data": {
      "image/png": "[encoded data removed]",
      "text/plain": [
       "<Figure size 432x288 with 4 Axes>"
      ]
     },
     "metadata": {
      "needs_background": "light"
     },
     "output_type": "display_data"
    }
   ],
   "source": [
    "plt.figure(figsize=(10,15))\n",
    "images, labels = next(iter(train_loader))\n",
    "fig, axes = plt.subplots(nrows=1, ncols=4)\n",
    "for i, ax in enumerate(axes):\n",
    "    plot_helper(images[i], ax=ax)\n",
    "plt.show()"
   ]
  },
  {
   "cell_type": "markdown",
   "id": "intermediate-pricing",
   "metadata": {},
   "source": [
    "# 2 Modeling\n",
    "\n",
    "\n",
    "The DeepDocClassifier is based on a pretrained *AlexNet*, that was initially trained on image net (1000 classes). To adapt the network for Tobacco3482 dataset we have to change the last layer of the *AlexNet* and replace it with a fully connected layer that has only 10 hidden units.\n",
    "\n",
    "My reimplementation of the model ([Implementation](files/model.py)) swaps the last layer of the *AlexNet* and replaces it with a fully connected layer that has only 10 hidden units. As we can see below \n"
   ]
  },
  {
   "cell_type": "markdown",
   "id": "experienced-retention",
   "metadata": {},
   "source": [
    "# 2.1 Create the Model"
   ]
  },
  {
   "cell_type": "code",
   "execution_count": 12,
   "id": "critical-professor",
   "metadata": {},
   "outputs": [
    {
     "name": "stdout",
     "output_type": "stream",
     "text": [
      "DeepDocClassifier(\n",
      "  (conv_layer): Sequential(\n",
      "    (0): Conv2d(3, 64, kernel_size=(11, 11), stride=(4, 4), padding=(2, 2))\n",
      "    (1): ReLU(inplace=True)\n",
      "    (2): MaxPool2d(kernel_size=3, stride=2, padding=0, dilation=1, ceil_mode=False)\n",
      "    (3): Conv2d(64, 192, kernel_size=(5, 5), stride=(1, 1), padding=(2, 2))\n",
      "    (4): ReLU(inplace=True)\n",
      "    (5): MaxPool2d(kernel_size=3, stride=2, padding=0, dilation=1, ceil_mode=False)\n",
      "    (6): Conv2d(192, 384, kernel_size=(3, 3), stride=(1, 1), padding=(1, 1))\n",
      "    (7): ReLU(inplace=True)\n",
      "    (8): Conv2d(384, 256, kernel_size=(3, 3), stride=(1, 1), padding=(1, 1))\n",
      "    (9): ReLU(inplace=True)\n",
      "    (10): Conv2d(256, 256, kernel_size=(3, 3), stride=(1, 1), padding=(1, 1))\n",
      "    (11): ReLU(inplace=True)\n",
      "    (12): MaxPool2d(kernel_size=3, stride=2, padding=0, dilation=1, ceil_mode=False)\n",
      "  )\n",
      "  (glob_avg_pooling): AdaptiveAvgPool2d(output_size=(6, 6))\n",
      "  (fc_layers): Sequential(\n",
      "    (0): Sequential(\n",
      "      (0): Dropout(p=0.5, inplace=False)\n",
      "      (1): Linear(in_features=9216, out_features=4096, bias=True)\n",
      "      (2): ReLU(inplace=True)\n",
      "      (3): Dropout(p=0.5, inplace=False)\n",
      "      (4): Linear(in_features=4096, out_features=4096, bias=True)\n",
      "      (5): ReLU(inplace=True)\n",
      "    )\n",
      "    (1): Linear(in_features=4096, out_features=10, bias=True)\n",
      "  )\n",
      ")\n"
     ]
    }
   ],
   "source": [
    "from model import DeepDocClassifier\n",
    "from torchvision.models.alexnet import alexnet\n",
    "\n",
    "model = DeepDocClassifier(alexnet, 10)\n",
    "print(model)"
   ]
  },
  {
   "cell_type": "markdown",
   "id": "latter-equipment",
   "metadata": {},
   "source": [
    "# 2.2 Train the Model\n",
    "\n",
    "The training of neural networks is difficult based on the typical non-convexity of the loss\n",
    "function and the vast amount of network/hyper parameters. Within the paper the authors provide useful guidelines on how to train the network.\n",
    "\n",
    "Foremost, they use Stochastic Gradient Descent with a learning rate of 0.0001, momentum of 0.9, weight decay of 0.0005 and a batch size of 10. \n",
    "\n",
    "To ensure good generalisation, in other words avoid overfitting, the authors separate some fraction of the training data as validation data. I use this validation data for early stopping, e.g. once the network does not show improvement on the validation set.\n",
    "\n",
    "\n"
   ]
  },
  {
   "cell_type": "code",
   "execution_count": 13,
   "id": "spanish-license",
   "metadata": {},
   "outputs": [],
   "source": [
    "from train import train_on_partitions\n",
    "\n",
    "path_to_models = os.path.abspath(\"./models\")\n",
    "train_on_partitions(path_to_partitions=path_to_partitions, \n",
    "                    transforms=transforms, \n",
    "                    max_epochs=15, \n",
    "                    path_to_models=path_to_models)"
   ]
  },
  {
   "cell_type": "code",
   "execution_count": 14,
   "id": "raising-aggregate",
   "metadata": {},
   "outputs": [
    {
     "data": {
      "text/plain": [
       "['.gitkeep',\n",
       " 'model-partitionID-data-partition-863d6a02-b3df-4b89-9a00-ef1818862146-size_train-80',\n",
       " 'model-partitionID-data-partition-6bac002e-b9d8-4e16-8a05-7912d06cc480-size_train-60',\n",
       " 'model-partitionID-data-partition-a19e490f-c050-4230-92da-d42ee80335f4-size_train-40',\n",
       " 'model-partitionID-data-partition-639d75cf-1d8a-4a15-a530-64cce86bcb5b-size_train-100',\n",
       " 'model-partitionID-data-partition-6a372eda-fff1-430b-9fec-a4c5a0bc4f6d-size_train-20']"
      ]
     },
     "execution_count": 14,
     "metadata": {},
     "output_type": "execute_result"
    }
   ],
   "source": [
    "os.listdir(path_to_models)"
   ]
  },
  {
   "cell_type": "markdown",
   "id": "substantial-midwest",
   "metadata": {},
   "source": [
    "# 3 Analyse Results\n",
    "\n",
    "\n",
    "Similar to the experiment section I report the accuracy for each partition size to get a feeling of how well the method scales with more training data. Moreover I report the confusion matrix\n"
   ]
  },
  {
   "cell_type": "markdown",
   "id": "endless-stable",
   "metadata": {},
   "source": [
    "# 3.1 Accuracy vs Training size\n",
    "\n",
    "In practice it is very important to understand how well the classifier performs if we increase the amount of training data. This also helps us to understand how sensitive\n",
    "the model is if there is only very few training data available\n",
    "\n",
    "For this reason we are going to plot the accuracy of the classifier vs. the amount of training data used."
   ]
  },
  {
   "cell_type": "code",
   "execution_count": 15,
   "id": "binding-williams",
   "metadata": {},
   "outputs": [],
   "source": [
    "def accuracy_vs_number_of_images(path_to_models, path_to_partitions):\n",
    "    results = {}\n",
    "    models = [m for m in os.listdir(path_to_models) if m.startswith(\"model\")]\n",
    "    for model_path in models:\n",
    "        trained_partition = \"data-partition-\" + model_path[33:]\n",
    "        _, test_set = torch.load(os.path.join(path_to_partitions, trained_partition))\n",
    "        test_loader = torch.utils.data.DataLoader(test_set, batch_size=32)\n",
    "        model = DeepDocClassifier(alexnet, 10)\n",
    "        model.load_state_dict(torch.load(os.path.join(path_to_models, model_path)))\n",
    "        model.eval()\n",
    "        accuracy = 0\n",
    "        n_images = len(test_loader.dataset)\n",
    "\n",
    "        for images, label in test_loader:\n",
    "            predictions = model(images).detach().numpy() \n",
    "            label = label.detach().numpy() \n",
    "            accuracy += np.sum(np.argmax(predictions, axis=1) == label)\n",
    "\n",
    "        results[model_path] = accuracy / n_images\n",
    "    return results"
   ]
  },
  {
   "cell_type": "code",
   "execution_count": 16,
   "id": "falling-ability",
   "metadata": {},
   "outputs": [],
   "source": [
    "results = accuracy_vs_number_of_images(path_to_models, path_to_partitions)"
   ]
  },
  {
   "cell_type": "code",
   "execution_count": 17,
   "id": "massive-newman",
   "metadata": {},
   "outputs": [
    {
     "data": {
      "text/plain": [
       "{'model-partitionID-data-partition-863d6a02-b3df-4b89-9a00-ef1818862146-size_train-80': 0.6755239520958084,\n",
       " 'model-partitionID-data-partition-6bac002e-b9d8-4e16-8a05-7912d06cc480-size_train-60': 0.6075905292479109,\n",
       " 'model-partitionID-data-partition-a19e490f-c050-4230-92da-d42ee80335f4-size_train-40': 0.5869140625,\n",
       " 'model-partitionID-data-partition-639d75cf-1d8a-4a15-a530-64cce86bcb5b-size_train-100': 0.7277508090614887,\n",
       " 'model-partitionID-data-partition-6a372eda-fff1-430b-9fec-a4c5a0bc4f6d-size_train-20': 0.5327017114914425}"
      ]
     },
     "execution_count": 17,
     "metadata": {},
     "output_type": "execute_result"
    }
   ],
   "source": [
    "results"
   ]
  },
  {
   "cell_type": "code",
   "execution_count": 18,
   "id": "uniform-colleague",
   "metadata": {},
   "outputs": [],
   "source": [
    "def plot_accuracy_vs_number_of_images(x, y):\n",
    "    plt.figure()\n",
    "    y = np.array(y)*100\n",
    "    plt.plot(x, y, 'o-')  \n",
    "    plt.xticks([0] + x)\n",
    "   \n",
    "    plt.yticks(range(0, 100, 10))\n",
    "    plt.xlabel(\"Number of images for training and validation per class\")\n",
    "    plt.ylabel(\"Accuracy (%)\")\n",
    "    plt.title(\"Comparison of the classification results on Tobaco-3482\")\n",
    "    plt.show()"
   ]
  },
  {
   "cell_type": "code",
   "execution_count": 19,
   "id": "whole-volume",
   "metadata": {},
   "outputs": [
    {
     "data": {
      "image/png": "[encoded data removed]",
      "text/plain": [
       "<Figure size 432x288 with 1 Axes>"
      ]
     },
     "metadata": {
      "needs_background": "light"
     },
     "output_type": "display_data"
    }
   ],
   "source": [
    "# As we have only 5 values we copy them from the results above \n",
    "plot_accuracy_vs_number_of_images([20, 40, 60, 80, 100], [0.53, 0.59, 0.61, 0.67, 0.72])"
   ]
  },
  {
   "cell_type": "markdown",
   "id": "adapted-meeting",
   "metadata": {},
   "source": [
    "# 3.2 Confusion Matrix\n",
    "\n",
    "In order to understand how to further improve the model confusion matrices are a very useful tool. Given the document classification, they allow us to understand how well the classifier predicts the different categories as well as which categories the classifier confuses.\n",
    "\n",
    "For this reason I will provide the confusion matrix below\n"
   ]
  },
  {
   "cell_type": "code",
   "execution_count": 23,
   "id": "phantom-reach",
   "metadata": {},
   "outputs": [],
   "source": [
    "from sklearn.metrics import confusion_matrix\n",
    "import seaborn as sn\n",
    "import pandas as pd\n",
    "\n",
    "DECODING_CLASS = [\n",
    "     'Note',\n",
    "     'Scientific',\n",
    "     'Form',\n",
    "     'Report',\n",
    "     'ADVE',\n",
    "     'Memo', \n",
    "     'Resume',\n",
    "     'Email',\n",
    "     'News',\n",
    "     'Letter' \n",
    "]\n",
    "\n",
    "def plot_confusion_matrix(predictions, labels, decoding_labels):\n",
    "    conf_matrix = confusion_matrix(predictions, labels, normalize='true')\n",
    "    df_cm = pd.DataFrame(\n",
    "        conf_matrix*100, \n",
    "        index = [decoding_labels[i] for i in [4,7,2,9,5,8,0,3,6,1]], # order as in the paper\n",
    "        columns = [decoding_labels[i] for i in [4,7,2,9,5,8,0,3,6,1]]# order as in the paper\n",
    "    )\n",
    "    plt.figure(figsize = (10,7))\n",
    "    ax = plt.axes()\n",
    "    sn.heatmap(df_cm, annot=True, cmap='Blues', ax=ax)\n",
    "    \n",
    "    acc = np.mean(np.array(predictions_list) == np.array(labels_list))\n",
    "    ax.set_title(\"Recognition accuracy {:2f}%\".format(acc * 100))\n",
    "    plt.ylabel(\"Ground Truth\")\n",
    "    plt.show()"
   ]
  },
  {
   "cell_type": "code",
   "execution_count": 21,
   "id": "transsexual-treasure",
   "metadata": {},
   "outputs": [],
   "source": [
    "##################################################\n",
    "# Please Modify to your custom model and partition\n",
    "##################################################\n",
    "model_file = \"model-partitionID-data-partition-639d75cf-1d8a-4a15-a530-64cce86bcb5b-size_train-100\"\n",
    "partition_file = \"data-partition-639d75cf-1d8a-4a15-a530-64cce86bcb5b-size_train-100\"\n",
    "\n",
    "_, test_set = torch.load(os.path.join(path_to_partitions, partition_file))\n",
    "test_loader = torch.utils.data.DataLoader(test_set, batch_size=32)\n",
    "model = DeepDocClassifier(alexnet, 10)\n",
    "model.load_state_dict(torch.load(os.path.join(path_to_models, model_file)))\n",
    "model.eval()\n",
    "\n",
    "predictions_list = []\n",
    "labels_list = []\n",
    "\n",
    "for images, label in test_loader:\n",
    "    predictions = model(images).detach().numpy() \n",
    "    predictions = np.argmax(predictions, axis=1)\n",
    "    label = label.detach().numpy() \n",
    "    \n",
    "    predictions_list += list(predictions)\n",
    "    labels_list += list(label)"
   ]
  },
  {
   "cell_type": "code",
   "execution_count": 24,
   "id": "aerial-subject",
   "metadata": {},
   "outputs": [
    {
     "data": {
      "image/png": "[encoded data removed]",
      "text/plain": [
       "<Figure size 720x504 with 2 Axes>"
      ]
     },
     "metadata": {
      "needs_background": "light"
     },
     "output_type": "display_data"
    }
   ],
   "source": [
    "plot_confusion_matrix(predictions_list, labels_list, DECODING_CLASS)"
   ]
  }
 ],
 "metadata": {
  "kernelspec": {
   "display_name": "Python 3",
   "language": "python",
   "name": "python3"
  },
  "language_info": {
   "codemirror_mode": {
    "name": "ipython",
    "version": 3
   },
   "file_extension": ".py",
   "mimetype": "text/x-python",
   "name": "python",
   "nbconvert_exporter": "python",
   "pygments_lexer": "ipython3",
   "version": "3.6.12"
  }
 },
 "nbformat": 4,
 "nbformat_minor": 5
}
